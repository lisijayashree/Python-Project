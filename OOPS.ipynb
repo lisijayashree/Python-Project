{
 "cells": [
  {
   "cell_type": "code",
   "execution_count": 11,
   "metadata": {},
   "outputs": [],
   "source": [
    "class NameOfclass():\n",
    "    # same for every instance\n",
    "    \n",
    "    def _init_(self, param1, param2):\n",
    "        self.param1 = param1\n",
    "        self.param2 = param2\n",
    "\n",
    "    def some_method(self):\n",
    "        # perform some action\n",
    "        print(self.param)\n"
   ]
  },
  {
   "cell_type": "code",
   "execution_count": 2,
   "metadata": {},
   "outputs": [
    {
     "name": "stdout",
     "output_type": "stream",
     "text": [
      "True\n"
     ]
    }
   ],
   "source": [
    "class Cars:\n",
    "    wheel=4\n",
    "    is_new=True\n",
    "    headlights=2\n",
    "    \n",
    "rahuls_car=Cars()\n",
    "print(rahuls_car.is_new)"
   ]
  },
  {
   "cell_type": "code",
   "execution_count": 4,
   "metadata": {},
   "outputs": [
    {
     "name": "stdout",
     "output_type": "stream",
     "text": [
      "<__main__.Cars object at 0x000002BEC559EB80>\n"
     ]
    }
   ],
   "source": [
    "#how to print all the elememts\n",
    "class Cars:\n",
    "    wheel=4\n",
    "    is_new=True\n",
    "    headlights=2\n",
    "    \n",
    "rahuls_car=Cars()\n",
    "print(rahuls_car)"
   ]
  },
  {
   "cell_type": "code",
   "execution_count": 26,
   "metadata": {},
   "outputs": [
    {
     "name": "stdout",
     "output_type": "stream",
     "text": [
      "vroom\n",
      "False\n",
      "Speed limit exceeded\n",
      "70\n",
      "30kmpl\n"
     ]
    }
   ],
   "source": [
    "class Cars:\n",
    "    wheel=4\n",
    "    is_new=True\n",
    "    headlights=2\n",
    "    speed=40\n",
    "    def __init__(self,model,milage,color,fuel_type):\n",
    "        self.model=model\n",
    "        self.milage=milage\n",
    "        self.color=color\n",
    "        self.fuel_type=fuel_type\n",
    "    def drive(self):\n",
    "        print(\"vroom\")\n",
    "        self.is_new=False\n",
    "    def accelerate(self):\n",
    "        self.speed+=20\n",
    "        print(\"Speed limit exceeded\")\n",
    "        self.speed+=10\n",
    "    def servicing(self):\n",
    "        self.milage='30kmpl'\n",
    "        \n",
    "        \n",
    "        \n",
    "prateeks_car=Cars(\"387\",\"20kmpl\",\"grey\",\"disel\")\n",
    "prateeks_car.drive()\n",
    "print(prateeks_car.is_new)\n",
    "prateeks_car.accelerate()\n",
    "print(prateeks_car.speed)\n",
    "prateeks_car.servicing()\n",
    "print(prateeks_car.milage)"
   ]
  },
  {
   "cell_type": "code",
   "execution_count": 6,
   "metadata": {},
   "outputs": [],
   "source": [
    "class Atm:\n",
    "    def __init__(self):\n",
    "        self.__pin=\"\"\n",
    "        self.__balance=0\n",
    "        self.operation()\n",
    "        #print(id(self))\n",
    "        #self.operation()\n",
    "    def operation(self):\n",
    "        user_input=input(\"\"\"How would you like to proceed\n",
    "        1.Enter 1 to create pin\n",
    "        2.Enter 2 to deposit\n",
    "        3.Enter 3 to withdraw\n",
    "        4.Enter 4 to Check_balance\n",
    "        5.Enter 5 to exit\"\"\")\n",
    "        \n",
    "        if user_input==\"1\":\n",
    "            print(\"Enter pin\")\n",
    "            self.create_pin()\n",
    "        elif user_input==\"2\":\n",
    "            print(\"Deposit\")\n",
    "            self.deposit()\n",
    "        elif user_input==\"3\":\n",
    "            print(\"Withdraw\")\n",
    "            self.withdraw()\n",
    "        elif user_input==\"4\":\n",
    "            print(\"Check_balance\")\n",
    "            self.check_balance()\n",
    "        else:\n",
    "            print(\"Thank you\")\n",
    "    def create_pin(self):\n",
    "        self.__pin=int(input())\n",
    "        print(\"Pin Created Sucessfully\")\n",
    "        self.operation()\n",
    "    def deposit(self):\n",
    "        temp=int(input(\"enter pin\"))\n",
    "        if temp==self.__pin:\n",
    "            amt=int(input(\"Enter Amout\"))\n",
    "            self.__balance=amt+self.__balance\n",
    "            print(\"Deposit sucefully\")\n",
    "        else:\n",
    "            print(\"Invalid pin\")\n",
    "        self.operation()\n",
    "    def withdraw(self):\n",
    "        temp=int(input(\"Enter pin\"))\n",
    "        if temp==self.__pin:\n",
    "            amt=int(input(\"enter amount\"))\n",
    "            if amt<self.__balance:\n",
    "                self.__balance=self.__balance-amt\n",
    "                print(\"Operation sucessfully\")\n",
    "            else:\n",
    "                print(\"Not enough balance\")\n",
    "        else:\n",
    "            print(\"Invalid pin\")\n",
    "        self.operation()\n",
    "    def check_balance(self):\n",
    "        temp=int(input(\"enter pin\"))\n",
    "        if temp==self.__pin:\n",
    "            print(self.__balance)\n",
    "        else:\n",
    "            print(\"Invalid Pin\")"
   ]
  },
  {
   "cell_type": "code",
   "execution_count": 7,
   "metadata": {},
   "outputs": [
    {
     "name": "stdout",
     "output_type": "stream",
     "text": [
      "How would you like to proceed\n",
      "        1.Enter 1 to create pin\n",
      "        2.Enter 2 to deposit\n",
      "        3.Enter 3 to withdraw\n",
      "        4.Enter 4 to Check_balance\n",
      "        5.Enter 5 to exit1\n",
      "Enter pin\n",
      "1234\n",
      "Pin Created Sucessfully\n",
      "How would you like to proceed\n",
      "        1.Enter 1 to create pin\n",
      "        2.Enter 2 to deposit\n",
      "        3.Enter 3 to withdraw\n",
      "        4.Enter 4 to Check_balance\n",
      "        5.Enter 5 to exit4\n",
      "Check_balance\n",
      "enter pin1234\n",
      "0\n"
     ]
    }
   ],
   "source": [
    "sbi=Atm()"
   ]
  },
  {
   "cell_type": "code",
   "execution_count": 4,
   "metadata": {},
   "outputs": [
    {
     "name": "stdout",
     "output_type": "stream",
     "text": [
      "How would you like to proceed\n",
      "        1.Enter 1 to create pin\n",
      "        2.Enter 2 to deposit\n",
      "        3.Enter 3 to withdraw\n",
      "        4.Enter 4 to Check_balance\n",
      "        5.Enter 5 to exit1\n",
      "Enter pin\n",
      "2345\n",
      "Pin Created Sucessfully\n",
      "How would you like to proceed\n",
      "        1.Enter 1 to create pin\n",
      "        2.Enter 2 to deposit\n",
      "        3.Enter 3 to withdraw\n",
      "        4.Enter 4 to Check_balance\n",
      "        5.Enter 5 to exit2\n",
      "Deposit\n",
      "enter pin2345\n",
      "Enter Amout50000\n",
      "Deposit sucefully\n",
      "How would you like to proceed\n",
      "        1.Enter 1 to create pin\n",
      "        2.Enter 2 to deposit\n",
      "        3.Enter 3 to withdraw\n",
      "        4.Enter 4 to Check_balance\n",
      "        5.Enter 5 to exit4\n",
      "Check_balance\n",
      "enter pin2345\n",
      "Invalid Pin\n"
     ]
    }
   ],
   "source": [
    "sbi=Atm()"
   ]
  },
  {
   "cell_type": "code",
   "execution_count": 135,
   "metadata": {},
   "outputs": [
    {
     "data": {
      "text/plain": [
       "['__class__',\n",
       " '__delattr__',\n",
       " '__dict__',\n",
       " '__dir__',\n",
       " '__doc__',\n",
       " '__eq__',\n",
       " '__format__',\n",
       " '__ge__',\n",
       " '__getattribute__',\n",
       " '__gt__',\n",
       " '__hash__',\n",
       " '__init__',\n",
       " '__init_subclass__',\n",
       " '__le__',\n",
       " '__lt__',\n",
       " '__module__',\n",
       " '__ne__',\n",
       " '__new__',\n",
       " '__reduce__',\n",
       " '__reduce_ex__',\n",
       " '__repr__',\n",
       " '__setattr__',\n",
       " '__sizeof__',\n",
       " '__str__',\n",
       " '__subclasshook__',\n",
       " '__weakref__',\n",
       " 'check_balance',\n",
       " 'create_pin',\n",
       " 'deposit',\n",
       " 'operation',\n",
       " 'withdraw']"
      ]
     },
     "execution_count": 135,
     "metadata": {},
     "output_type": "execute_result"
    }
   ],
   "source": [
    "dir(Atm)"
   ]
  },
  {
   "cell_type": "code",
   "execution_count": 23,
   "metadata": {},
   "outputs": [
    {
     "name": "stdout",
     "output_type": "stream",
     "text": [
      "How would you like to proceed\n",
      "        1.Enter 1 to create pin\n",
      "        2.Enter 2 to deposit\n",
      "        3.Enter 3 to withdraw\n",
      "        4.Enter 4 to Check_balance\n",
      "        5.Enter 5 to exit1\n",
      "Enter pin\n",
      "1234\n",
      "Pin Created Sucessfully\n",
      "How would you like to proceed\n",
      "        1.Enter 1 to create pin\n",
      "        2.Enter 2 to deposit\n",
      "        3.Enter 3 to withdraw\n",
      "        4.Enter 4 to Check_balance\n",
      "        5.Enter 5 to exit2\n",
      "Deposit\n",
      "enter pin1234\n",
      "Enter Amout90000\n",
      "Deposit sucefully\n",
      "How would you like to proceed\n",
      "        1.Enter 1 to create pin\n",
      "        2.Enter 2 to deposit\n",
      "        3.Enter 3 to withdraw\n",
      "        4.Enter 4 to Check_balance\n",
      "        5.Enter 5 to exit3\n",
      "Withdraw\n",
      "enter pin1234\n",
      "Enter Amout100000\n",
      "Deposit sucefully\n",
      "How would you like to proceed\n",
      "        1.Enter 1 to create pin\n",
      "        2.Enter 2 to deposit\n",
      "        3.Enter 3 to withdraw\n",
      "        4.Enter 4 to Check_balance\n",
      "        5.Enter 5 to exit4\n",
      "Check_balance\n",
      "enter pin1234\n",
      "Invalid Pin\n"
     ]
    }
   ],
   "source": [
    " lisi=Atm()"
   ]
  },
  {
   "cell_type": "code",
   "execution_count": 15,
   "metadata": {},
   "outputs": [
    {
     "name": "stdout",
     "output_type": "stream",
     "text": [
      "1690717160016\n"
     ]
    }
   ],
   "source": [
    "print(id(lisi))"
   ]
  },
  {
   "cell_type": "code",
   "execution_count": 18,
   "metadata": {},
   "outputs": [
    {
     "name": "stdout",
     "output_type": "stream",
     "text": [
      "How would you like to proceed\n",
      "        1.Enter 1 to create pin\n",
      "        2.Enter 2 to deposit\n",
      "        3.Enter 3 to withdraw\n",
      "        4.Enter 4 to Check_balance\n",
      "        5.Enter 5 to exit2\n",
      "Deposit\n",
      "enter pin1234\n",
      "Invalid pin\n",
      "1690716776096\n"
     ]
    }
   ],
   "source": [
    "lisi=Atm()"
   ]
  },
  {
   "cell_type": "code",
   "execution_count": 4,
   "metadata": {},
   "outputs": [],
   "source": [
    "lst=[1,2,3]"
   ]
  },
  {
   "cell_type": "code",
   "execution_count": 6,
   "metadata": {},
   "outputs": [
    {
     "data": {
      "text/plain": [
       "['__add__',\n",
       " '__class__',\n",
       " '__contains__',\n",
       " '__delattr__',\n",
       " '__delitem__',\n",
       " '__dir__',\n",
       " '__doc__',\n",
       " '__eq__',\n",
       " '__format__',\n",
       " '__ge__',\n",
       " '__getattribute__',\n",
       " '__getitem__',\n",
       " '__gt__',\n",
       " '__hash__',\n",
       " '__iadd__',\n",
       " '__imul__',\n",
       " '__init__',\n",
       " '__init_subclass__',\n",
       " '__iter__',\n",
       " '__le__',\n",
       " '__len__',\n",
       " '__lt__',\n",
       " '__mul__',\n",
       " '__ne__',\n",
       " '__new__',\n",
       " '__reduce__',\n",
       " '__reduce_ex__',\n",
       " '__repr__',\n",
       " '__reversed__',\n",
       " '__rmul__',\n",
       " '__setattr__',\n",
       " '__setitem__',\n",
       " '__sizeof__',\n",
       " '__str__',\n",
       " '__subclasshook__',\n",
       " 'append',\n",
       " 'clear',\n",
       " 'copy',\n",
       " 'count',\n",
       " 'extend',\n",
       " 'index',\n",
       " 'insert',\n",
       " 'pop',\n",
       " 'remove',\n",
       " 'reverse',\n",
       " 'sort']"
      ]
     },
     "execution_count": 6,
     "metadata": {},
     "output_type": "execute_result"
    }
   ],
   "source": [
    "dir(lst)"
   ]
  },
  {
   "cell_type": "code",
   "execution_count": 4,
   "metadata": {},
   "outputs": [
    {
     "name": "stdout",
     "output_type": "stream",
     "text": [
      "0\n",
      "30\n"
     ]
    }
   ],
   "source": [
    "#speed = 30\n",
    "\n",
    "# parent class, base class\n",
    "class Car:\n",
    "    wheels = 4\n",
    "    is_new = True\n",
    "    speed = 0\n",
    "\n",
    "    # Initialisation method\n",
    "    def __init__(self, model, mileage, fuel_type, color):\n",
    "        self.model = model\n",
    "        self.mileage = mileage\n",
    "        self.fuel_type = fuel_type\n",
    "        self.color = color\n",
    "\n",
    "    def acclerate(self, jump1, jump2):\n",
    "        self.speed += (jump1 + jump2)\n",
    "    \n",
    "    def brake(self):\n",
    "        if self.speed > 10:\n",
    "            self.speed -= 10\n",
    "        else:\n",
    "            self.speed = 0\n",
    "\n",
    "    def xyz(self):\n",
    "        print(speed)\n",
    "        print(self.speed)\n",
    "\n",
    "# Inheritance, child class, derived class\n",
    "class ElectricCar(Car):\n",
    "\n",
    "    def __init__(self, model, mileage, fuel_type, color, chargin_type, range_car, tt_full_charging):\n",
    "        Car.__init__(self, model, mileage, fuel_type, color)\n",
    "        self.chargin_type = chargin_type\n",
    "        self.range_car = range_car\n",
    "        self.tt_full_charging = tt_full_charging\n",
    "\n",
    "\n",
    "\n",
    "elons_car = ElectricCar(\"ModelX\", '13kmpc', 'Li-ion', 'Black', 'C Cable', '120', '40mins')\n",
    "print(elons_car.speed)\n",
    "elons_car.acclerate(10, 20)\n",
    "print(elons_car.speed)\n",
    "\n",
    "\n",
    "# model, mileage, fuel_type, color, chargin_type, range_car, tt_full_charging\n",
    "# Inheritance - getting your property from another class\n",
    "# Polymorphism - one \n",
    "# Encapsulation - X\n",
    "# Abstraction - hiding the unimportant details and just focussing on functionality"
   ]
  },
  {
   "cell_type": "code",
   "execution_count": 5,
   "metadata": {},
   "outputs": [
    {
     "name": "stdout",
     "output_type": "stream",
     "text": [
      "How would you like to proceed\n",
      "        1.Enter 1 to create pin\n",
      "        2.Enter 2 to check\n",
      "        1\n",
      "Enter pin\n",
      "1234\n",
      "Pin Created Sucessfully\n"
     ]
    }
   ],
   "source": [
    "class Android:\n",
    "    def __init__(self):\n",
    "        self.pin=0\n",
    "        self.operation()\n",
    "        #self.s=[]\n",
    "    def operation(self):\n",
    "        user_input=input(\"\"\"How would you like to proceed\n",
    "        1.Enter 1 to create pin\n",
    "        2.Enter 2 to check\n",
    "        \"\"\")\n",
    "        \n",
    "        if user_input==\"1\":\n",
    "            print(\"Enter pin\")\n",
    "            self.create_pin()\n",
    "        elif user_input==\"2\":\n",
    "            self.created()\n",
    "        else:\n",
    "            print(\"Thank you\")\n",
    "    def create_pin(self):\n",
    "        \n",
    "        self.pin=int(input())\n",
    "       \n",
    "        print(\"Pin Created Sucessfully\")\n",
    "    def created(self):\n",
    "        temp=int(input(\"enter pin\"))\n",
    "        if temp==self.pin:\n",
    "            print(\"created\")\n",
    "        else:\n",
    "            print(\"Invalid pin\")\n",
    "lisi=Android()"
   ]
  },
  {
   "cell_type": "code",
   "execution_count": 4,
   "metadata": {},
   "outputs": [
    {
     "name": "stdout",
     "output_type": "stream",
     "text": [
      "How would you like to proceed\n",
      "        1.Enter 1 to create pin\n",
      "        2.Enter 2 to check\n",
      "        2\n",
      "enter pin1234\n",
      "Invalid pin\n"
     ]
    }
   ],
   "source": [
    "lisi.operation()"
   ]
  },
  {
   "cell_type": "code",
   "execution_count": 18,
   "metadata": {},
   "outputs": [
    {
     "name": "stdout",
     "output_type": "stream",
     "text": [
      "How would you like to proceed\n",
      "        1.Enter 1 to create pin\n",
      "        2.Enter 2 to check\n",
      "        2\n",
      "enter pin1234\n",
      "Invalid pin\n"
     ]
    }
   ],
   "source": [
    "lisi=Android()"
   ]
  },
  {
   "cell_type": "code",
   "execution_count": 24,
   "metadata": {},
   "outputs": [],
   "source": [
    "###2nd"
   ]
  },
  {
   "cell_type": "code",
   "execution_count": 8,
   "metadata": {},
   "outputs": [],
   "source": [
    "class FractionNum():\n",
    "    def __init__(self,num,denum):\n",
    "        self.n=num\n",
    "        self.d=denum\n",
    "    def __str__(self):\n",
    "        return \"{}/{}\".format(self.n,self.d)\n",
    "    def __add__(self,other):\n",
    "        temp_n=self.n*other.d+self.d*other.n\n",
    "        temp_d=self.d*other.d\n",
    "        return \"{}/{}\".format(temp_n,temp_d)\n",
    "    def __sub__(self,other):\n",
    "        temp1=self.n*other.d-self.d*other.n\n",
    "        temp2=self.d*other.d\n",
    "        return \"{}/{}\".format(temp1,temp2)\n",
    "    def __mul__(self,other):\n",
    "        temp_a=self.n*other.n\n",
    "        temp_b=self.d*other.d\n",
    "        return \"{}/{}\".format(temp_a,temp_b)\n",
    "    def __truediv__(self,other):\n",
    "        temp=self.n*other.d\n",
    "        temp_temp=self.d*other.n\n",
    "        return \"{}/{}\".format(temp,temp_temp)"
   ]
  },
  {
   "cell_type": "code",
   "execution_count": 9,
   "metadata": {},
   "outputs": [],
   "source": [
    "x=FractionNum(3,4)"
   ]
  },
  {
   "cell_type": "code",
   "execution_count": 10,
   "metadata": {},
   "outputs": [
    {
     "name": "stdout",
     "output_type": "stream",
     "text": [
      "3/4\n"
     ]
    }
   ],
   "source": [
    "print(x)"
   ]
  },
  {
   "cell_type": "code",
   "execution_count": 11,
   "metadata": {},
   "outputs": [],
   "source": [
    "y=FractionNum(5,6)"
   ]
  },
  {
   "cell_type": "code",
   "execution_count": 12,
   "metadata": {},
   "outputs": [
    {
     "name": "stdout",
     "output_type": "stream",
     "text": [
      "5/6\n"
     ]
    }
   ],
   "source": [
    "print(y)"
   ]
  },
  {
   "cell_type": "code",
   "execution_count": 130,
   "metadata": {},
   "outputs": [
    {
     "name": "stdout",
     "output_type": "stream",
     "text": [
      "38/24\n"
     ]
    }
   ],
   "source": [
    "print(x+y)"
   ]
  },
  {
   "cell_type": "code",
   "execution_count": 131,
   "metadata": {},
   "outputs": [
    {
     "name": "stdout",
     "output_type": "stream",
     "text": [
      "-2/24\n"
     ]
    }
   ],
   "source": [
    "print(x-y)"
   ]
  },
  {
   "cell_type": "code",
   "execution_count": 132,
   "metadata": {},
   "outputs": [
    {
     "name": "stdout",
     "output_type": "stream",
     "text": [
      "15/24\n"
     ]
    }
   ],
   "source": [
    "print(x*y)"
   ]
  },
  {
   "cell_type": "code",
   "execution_count": 133,
   "metadata": {},
   "outputs": [
    {
     "name": "stdout",
     "output_type": "stream",
     "text": [
      "18/20\n"
     ]
    }
   ],
   "source": [
    "print(x/y)"
   ]
  },
  {
   "cell_type": "code",
   "execution_count": 114,
   "metadata": {},
   "outputs": [],
   "source": [
    "#dir(int)"
   ]
  },
  {
   "cell_type": "code",
   "execution_count": 17,
   "metadata": {},
   "outputs": [],
   "source": [
    "class Vehicle:\n",
    "    max_speed = 120\n",
    "    current_speed = 60\n",
    "    mileage = 40\n",
    "\n",
    "    def increase_speed(self):\n",
    "        if self.current_speed + 10 <= self.max_speed:\n",
    "            self.current_speed+= 10\n",
    "\n",
    "honda = Vehicle()"
   ]
  },
  {
   "cell_type": "code",
   "execution_count": 18,
   "metadata": {},
   "outputs": [
    {
     "name": "stdout",
     "output_type": "stream",
     "text": [
      "70\n",
      "80\n",
      "90\n",
      "100\n",
      "110\n",
      "120\n",
      "120\n",
      "120\n",
      "120\n",
      "120\n"
     ]
    }
   ],
   "source": [
    "#print(honda.current_speed)\n",
    "for i in range(10):\n",
    "    honda.increase_speed()\n",
    "    print(honda.current_speed)"
   ]
  },
  {
   "cell_type": "code",
   "execution_count": 28,
   "metadata": {},
   "outputs": [],
   "source": [
    "class Vehicle:\n",
    "    max_speed = 120\n",
    "    current_speed = 60\n",
    "    mileage = 40\n",
    "\n",
    "    def increase_speed(self):\n",
    "        if self.current_speed + 10 <= self.max_speed:\n",
    "            self.current_speed+= 10\n",
    "\n",
    "    def __init__(self, color, model):\n",
    "        self.color = color\n",
    "        self.model = model \n",
    "\n",
    "bajaj = Vehicle('black',2020)"
   ]
  },
  {
   "cell_type": "code",
   "execution_count": 29,
   "metadata": {},
   "outputs": [
    {
     "name": "stdout",
     "output_type": "stream",
     "text": [
      "40\n",
      "120\n",
      "60\n",
      "white\n",
      "2015\n",
      "70\n"
     ]
    }
   ],
   "source": [
    "class Bus(Vehicle):\n",
    "    def __init__(self, color, model):\n",
    "        super().__init__(color, model)\n",
    "\n",
    "irizar = Bus('white', 2015)\n",
    "print(irizar.mileage)\n",
    "print(irizar.max_speed)\n",
    "print(irizar.current_speed)\n",
    "print(irizar.color)\n",
    "print(irizar.model) \n",
    "bajaj.increase_speed()\n",
    "print(bajaj.current_speed)"
   ]
  },
  {
   "cell_type": "code",
   "execution_count": null,
   "metadata": {},
   "outputs": [],
   "source": []
  }
 ],
 "metadata": {
  "kernelspec": {
   "display_name": "Python 3",
   "language": "python",
   "name": "python3"
  },
  "language_info": {
   "codemirror_mode": {
    "name": "ipython",
    "version": 3
   },
   "file_extension": ".py",
   "mimetype": "text/x-python",
   "name": "python",
   "nbconvert_exporter": "python",
   "pygments_lexer": "ipython3",
   "version": "3.8.5"
  }
 },
 "nbformat": 4,
 "nbformat_minor": 4
}
